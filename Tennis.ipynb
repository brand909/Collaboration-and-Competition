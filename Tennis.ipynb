{
 "cells": [
  {
   "cell_type": "markdown",
   "metadata": {},
   "source": [
    "# Collaboration and Competition\n",
    "\n",
    "---\n",
    "\n",
    "You are welcome to use this coding environment to train your agent for the project.  Follow the instructions below to get started!\n",
    "\n",
    "### 1. Start the Environment\n",
    "\n",
    "Run the next code cell to install a few packages.  This line will take a few minutes to run!"
   ]
  },
  {
   "cell_type": "code",
   "execution_count": 1,
   "metadata": {},
   "outputs": [],
   "source": [
    "!pip -q install ./python"
   ]
  },
  {
   "cell_type": "markdown",
   "metadata": {},
   "source": [
    "The environment is already saved in the Workspace and can be accessed at the file path provided below. "
   ]
  },
  {
   "cell_type": "code",
   "execution_count": 2,
   "metadata": {},
   "outputs": [
    {
     "name": "stderr",
     "output_type": "stream",
     "text": [
      "INFO:unityagents:\n",
      "'Academy' started successfully!\n",
      "Unity Academy name: Academy\n",
      "        Number of Brains: 1\n",
      "        Number of External Brains : 1\n",
      "        Lesson number : 0\n",
      "        Reset Parameters :\n",
      "\t\t\n",
      "Unity brain name: TennisBrain\n",
      "        Number of Visual Observations (per agent): 0\n",
      "        Vector Observation space type: continuous\n",
      "        Vector Observation space size (per agent): 8\n",
      "        Number of stacked Vector Observation: 3\n",
      "        Vector Action space type: continuous\n",
      "        Vector Action space size (per agent): 2\n",
      "        Vector Action descriptions: , \n"
     ]
    }
   ],
   "source": [
    "from unityagents import UnityEnvironment\n",
    "import numpy as np\n",
    "\n",
    "env = UnityEnvironment(file_name=\"/data/Tennis_Linux_NoVis/Tennis\")"
   ]
  },
  {
   "cell_type": "markdown",
   "metadata": {},
   "source": [
    "Environments contain **_brains_** which are responsible for deciding the actions of their associated agents. Here we check for the first brain available, and set it as the default brain we will be controlling from Python."
   ]
  },
  {
   "cell_type": "code",
   "execution_count": 3,
   "metadata": {},
   "outputs": [],
   "source": [
    "# get the default brain\n",
    "brain_name = env.brain_names[0]\n",
    "brain = env.brains[brain_name]"
   ]
  },
  {
   "cell_type": "markdown",
   "metadata": {},
   "source": [
    "### 2. Examine the State and Action Spaces\n",
    "\n",
    "Run the code cell below to print some information about the environment."
   ]
  },
  {
   "cell_type": "code",
   "execution_count": 4,
   "metadata": {},
   "outputs": [
    {
     "name": "stdout",
     "output_type": "stream",
     "text": [
      "Number of agents: 2\n",
      "Size of each action: 2\n",
      "There are 2 agents. Each observes a state with length: 24\n",
      "The state for the first agent looks like: [ 0.          0.          0.          0.          0.          0.          0.\n",
      "  0.          0.          0.          0.          0.          0.          0.\n",
      "  0.          0.         -6.65278625 -1.5        -0.          0.\n",
      "  6.83172083  6.         -0.          0.        ]\n"
     ]
    }
   ],
   "source": [
    "# reset the environment\n",
    "env_info = env.reset(train_mode=True)[brain_name]\n",
    "\n",
    "# number of agents \n",
    "num_agents = len(env_info.agents)\n",
    "print('Number of agents:', num_agents)\n",
    "\n",
    "# size of each action\n",
    "action_size = brain.vector_action_space_size\n",
    "print('Size of each action:', action_size)\n",
    "\n",
    "# examine the state space \n",
    "states = env_info.vector_observations\n",
    "state_size = states.shape[1]\n",
    "print('There are {} agents. Each observes a state with length: {}'.format(states.shape[0], state_size))\n",
    "print('The state for the first agent looks like:', states[0])"
   ]
  },
  {
   "cell_type": "markdown",
   "metadata": {},
   "source": [
    "### 3. Take Random Actions in the Environment\n",
    "\n",
    "In the next code cell, you will learn how to use the Python API to control the agent and receive feedback from the environment.\n",
    "\n",
    "Note that **in this coding environment, you will not be able to watch the agents while they are training**, and you should set `train_mode=True` to restart the environment."
   ]
  },
  {
   "cell_type": "code",
   "execution_count": 5,
   "metadata": {},
   "outputs": [
    {
     "name": "stdout",
     "output_type": "stream",
     "text": [
      "Total score (averaged over agents) this episode: -0.004999999888241291\n",
      "Total score (averaged over agents) this episode: -0.004999999888241291\n",
      "Total score (averaged over agents) this episode: -0.004999999888241291\n",
      "Total score (averaged over agents) this episode: -0.004999999888241291\n",
      "Total score (averaged over agents) this episode: -0.004999999888241291\n"
     ]
    }
   ],
   "source": [
    "for i in range(5):                                         # play game for 5 episodes\n",
    "    env_info = env.reset(train_mode=False)[brain_name]     # reset the environment    \n",
    "    states = env_info.vector_observations                  # get the current state (for each agent)\n",
    "    scores = np.zeros(num_agents)                          # initialize the score (for each agent)\n",
    "    while True:\n",
    "        actions = np.random.randn(num_agents, action_size) # select an action (for each agent)\n",
    "        actions = np.clip(actions, -1, 1)                  # all actions between -1 and 1\n",
    "        env_info = env.step(actions)[brain_name]           # send all actions to tne environment\n",
    "        next_states = env_info.vector_observations         # get next state (for each agent)\n",
    "        rewards = env_info.rewards                         # get reward (for each agent)\n",
    "        dones = env_info.local_done                        # see if episode finished\n",
    "        scores += env_info.rewards                         # update the score (for each agent)\n",
    "        states = next_states                               # roll over states to next time step\n",
    "        if np.any(dones):                                  # exit loop if episode finished\n",
    "            break\n",
    "    print('Total score (averaged over agents) this episode: {}'.format(np.mean(scores)))"
   ]
  },
  {
   "cell_type": "markdown",
   "metadata": {},
   "source": [
    "When finished, you can close the environment."
   ]
  },
  {
   "cell_type": "code",
   "execution_count": 6,
   "metadata": {},
   "outputs": [],
   "source": [
    "#env.close()"
   ]
  },
  {
   "cell_type": "markdown",
   "metadata": {},
   "source": [
    "### 4. It's Your Turn!\n",
    "\n",
    "Now it's your turn to train your own agent to solve the environment!  A few **important notes**:\n",
    "- When training the environment, set `train_mode=True`, so that the line for resetting the environment looks like the following:\n",
    "```python\n",
    "env_info = env.reset(train_mode=True)[brain_name]\n",
    "```\n",
    "- To structure your work, you're welcome to work directly in this Jupyter notebook, or you might like to start over with a new file!  You can see the list of files in the workspace by clicking on **_Jupyter_** in the top left corner of the notebook.\n",
    "- In this coding environment, you will not be able to watch the agents while they are training.  However, **_after training the agents_**, you can download the saved model weights to watch the agents on your own machine! "
   ]
  },
  {
   "cell_type": "code",
   "execution_count": 7,
   "metadata": {},
   "outputs": [],
   "source": [
    "import numpy as np\n",
    "import random\n",
    "import copy\n",
    "from collections import namedtuple, deque\n",
    "import matplotlib.pyplot as plt\n",
    "%matplotlib inline\n",
    "\n",
    "from agent import DDPGAgent\n",
    "\n",
    "import torch\n",
    "import torch.nn.functional as F\n",
    "import torch.optim as optim\n",
    "\n",
    "device = torch.device(\"cuda:0\" if torch.cuda.is_available() else \"cpu\")"
   ]
  },
  {
   "cell_type": "markdown",
   "metadata": {},
   "source": [
    "### Train an agent"
   ]
  },
  {
   "cell_type": "code",
   "execution_count": 8,
   "metadata": {},
   "outputs": [],
   "source": [
    "agent = DDPGAgent(state_size, action_size, num_agents)"
   ]
  },
  {
   "cell_type": "code",
   "execution_count": 9,
   "metadata": {},
   "outputs": [],
   "source": [
    "def ddpg(n_episodes=1000, max_t=1000, print_every=100):           # number of episodes, timesteps per, & score window\n",
    "    task = 0.5                                                    # threshold of score to surpass\n",
    "    finished = False                                              # checks if agent has finished given task\n",
    "    scores_total = []                                             # time series of the average score per episode\n",
    "    averages = []                                                 # smoothing of the scores_total\n",
    "    scores_deque = deque(maxlen=print_every)                      # limited moving window of ongoing scores\n",
    "    for i_episode in range(1, n_episodes+1):\n",
    "        env_info = env.reset(train_mode=True)[brain_name]      # reset environment, toggle training, get brain\n",
    "        states = env_info.vector_observations                  # current state (for each agent)\n",
    "        scores = np.zeros(num_agents)                          # initialize 0 scores (for each agent)\n",
    "        agent.reset()                                          # initialize a random process N for action exploration\n",
    "        \n",
    "        for t in range(max_t):\n",
    "            actions = agent.act(states)                    # retrieve action for the given state (for each agent)\n",
    "            env_info = env.step(actions)[brain_name]       # send all actions to the environment\n",
    "            next_states = env_info.vector_observations     # get next state (for each agent)\n",
    "            rewards = env_info.rewards                     # get reward (for each agent)\n",
    "            dones = env_info.local_done                    # see if episode finished\n",
    "            agent.step(states, actions, rewards, next_states, dones) # save agent's memory of environment     \n",
    "            scores += rewards                                        # update the score (for each agent)\n",
    "            states = next_states                                     # roll over states to next time step\n",
    "            if np.any(dones):                                        # if the agent has finished, stop the loop\n",
    "                break\n",
    "        \n",
    "        average_episode_score = np.mean(scores)         # average score of an episode\n",
    "        scores_deque.append(average_episode_score)      # time series of average episode score within a window\n",
    "        scores_total.append(average_episode_score)      # time series of average episode score\n",
    "        averages.append(np.mean(scores_deque))          # smoothing of the episode averages\n",
    "        average_score = np.mean(scores_deque)           # average score of a limited window of the scores\n",
    "\n",
    "        if average_score >= max(averages):                  # save model with highest 'print_every' window score\n",
    "            torch.save(agent.actor_local.state_dict(), 'checkpoint_actor.pth')\n",
    "            torch.save(agent.critic_local.state_dict(), 'checkpoint_critic.pth')\n",
    "#       if average_episode_score >= max(scores_total):      # save model with highest episode score\n",
    "#           torch.save(agent.actor_local.state_dict(), 'checkpoint_actor.pth')\n",
    "#           torch.save(agent.critic_local.state_dict(), 'checkpoint_critic.pth')\n",
    "        \n",
    "        print('\\rEpisode {}\\tAverage Score: {:.3f}'.format(i_episode, average_score), end=\"\")\n",
    "        if i_episode % print_every == 0:\n",
    "#           torch.save(agent.actor_local.state_dict(), 'checkpoint_actor.pth')\n",
    "#           torch.save(agent.critic_local.state_dict(), 'checkpoint_critic.pth')\n",
    "            print('\\rEpisode {}\\tAverage Score: {:.3f}'.format(i_episode, average_score))\n",
    "                \n",
    "        if average_score >= task and finished==False:\n",
    "            print('\\nEnvironment solved in {:d} episodes!\\tAverage Score: {:.3f}'.format(i_episode, average_score))\n",
    "            finished = True  \n",
    "#   torch.save(agent.actor_local.state_dict(), 'checkpoint_actor.pth')\n",
    "#   torch.save(agent.critic_local.state_dict(), 'checkpoint_critic.pth')\n",
    "            \n",
    "    return scores_total, averages"
   ]
  },
  {
   "cell_type": "code",
   "execution_count": 10,
   "metadata": {},
   "outputs": [
    {
     "name": "stdout",
     "output_type": "stream",
     "text": [
      "Episode 100\tAverage Score: -0.004\n",
      "Episode 200\tAverage Score: -0.005\n",
      "Episode 300\tAverage Score: -0.005\n",
      "Episode 400\tAverage Score: -0.005\n",
      "Episode 500\tAverage Score: -0.005\n",
      "Episode 600\tAverage Score: -0.005\n",
      "Episode 700\tAverage Score: -0.005\n",
      "Episode 800\tAverage Score: -0.001\n",
      "Episode 900\tAverage Score: 0.0060\n",
      "Episode 1000\tAverage Score: 0.002\n",
      "Episode 1100\tAverage Score: 0.0040\n",
      "Episode 1200\tAverage Score: 0.009\n",
      "Episode 1300\tAverage Score: 0.027\n",
      "Episode 1400\tAverage Score: 0.011\n",
      "Episode 1500\tAverage Score: 0.021\n",
      "Episode 1600\tAverage Score: 0.067\n",
      "Episode 1700\tAverage Score: 0.127\n",
      "Episode 1800\tAverage Score: 0.297\n",
      "Episode 1900\tAverage Score: 0.102\n",
      "Episode 2000\tAverage Score: 0.111\n",
      "Episode 2100\tAverage Score: 0.113\n",
      "Episode 2200\tAverage Score: 0.374\n",
      "Episode 2217\tAverage Score: 0.500\n",
      "Environment solved in 2217 episodes!\tAverage Score: 0.500\n",
      "Episode 2300\tAverage Score: 0.816\n",
      "Episode 2400\tAverage Score: 0.804\n",
      "Episode 2500\tAverage Score: 0.337\n",
      "Episode 2600\tAverage Score: 0.376\n",
      "Episode 2700\tAverage Score: 0.301\n",
      "Episode 2800\tAverage Score: 0.352\n",
      "Episode 2900\tAverage Score: 0.389\n",
      "Episode 3000\tAverage Score: 0.231\n",
      "Episode 3100\tAverage Score: 0.270\n",
      "Episode 3200\tAverage Score: 0.337\n",
      "Episode 3300\tAverage Score: 0.279\n",
      "Episode 3400\tAverage Score: 0.221\n",
      "Episode 3500\tAverage Score: 0.142\n",
      "Episode 3600\tAverage Score: 0.122\n",
      "Episode 3700\tAverage Score: 0.083\n",
      "Episode 3800\tAverage Score: 0.078\n",
      "Episode 3900\tAverage Score: 0.077\n",
      "Episode 4000\tAverage Score: 0.068\n"
     ]
    }
   ],
   "source": [
    "scores, averages = ddpg(n_episodes=4000)"
   ]
  },
  {
   "cell_type": "markdown",
   "metadata": {},
   "source": [
    "### Plot online training scores"
   ]
  },
  {
   "cell_type": "code",
   "execution_count": 11,
   "metadata": {},
   "outputs": [
    {
     "data": {
      "image/png": "[encoded data removed]",
      "text/plain": [
       "<matplotlib.figure.Figure at 0x7fd4451e5438>"
      ]
     },
     "metadata": {
      "needs_background": "light"
     },
     "output_type": "display_data"
    }
   ],
   "source": [
    "fig = plt.figure()\n",
    "ax = fig.add_subplot(111)\n",
    "plt.plot(np.arange(1, len(scores)+1), scores, averages)\n",
    "plt.ylabel('Score')\n",
    "plt.xlabel('Episode #')\n",
    "plt.show()"
   ]
  },
  {
   "cell_type": "markdown",
   "metadata": {},
   "source": [
    "### Watch the trained agent's performance"
   ]
  },
  {
   "cell_type": "code",
   "execution_count": 12,
   "metadata": {},
   "outputs": [],
   "source": [
    "# load the weights from file\n",
    "agent.actor_local.load_state_dict(torch.load('checkpoint_actor.pth'))\n",
    "agent.critic_local.load_state_dict(torch.load('checkpoint_critic.pth'))"
   ]
  },
  {
   "cell_type": "code",
   "execution_count": 13,
   "metadata": {},
   "outputs": [
    {
     "name": "stdout",
     "output_type": "stream",
     "text": [
      "Total score (averaged over agents) episode 1: 2.550000037997961\n",
      "Total score (averaged over agents) episode 2: 0.3950000060722232\n",
      "Total score (averaged over agents) episode 3: 0.0950000025331974\n",
      "Total score (averaged over agents) episode 4: 0.09500000160187483\n",
      "Total score (averaged over agents) episode 5: 2.600000038743019\n"
     ]
    }
   ],
   "source": [
    "for i in range(5):                                         # play game for number of episodes in given range\n",
    "    env_info = env.reset(train_mode=False)[brain_name]     # reset the environment    \n",
    "    states = env_info.vector_observations                  # get the current state (for each agent)\n",
    "    scores = np.zeros(num_agents)                          # initialize the score (for each agent)\n",
    "    while True:\n",
    "        actions = agent.act(states, add_noise=False)       # get actions\n",
    "        env_info = env.step(actions)[brain_name]           # send actions to environment\n",
    "        next_states = env_info.vector_observations         # get next state (for each agent)\n",
    "        rewards = env_info.rewards                         # get reward (for each agent)\n",
    "        dones = env_info.local_done                        # see if episode finished\n",
    "        scores += rewards                                  # update the score (for each agent)\n",
    "        states = next_states                               # roll over states to next time step\n",
    "        if np.any(dones):                                  # exit loop if episode finished\n",
    "            break\n",
    "    print('Total score (averaged over agents) episode {}: {}'.format(i+1,np.mean(scores)))"
   ]
  },
  {
   "cell_type": "code",
   "execution_count": 14,
   "metadata": {},
   "outputs": [],
   "source": [
    "# If finished, close the environment\n",
    "env.close()"
   ]
  },
  {
   "cell_type": "markdown",
   "metadata": {},
   "source": [
    "### Analysis"
   ]
  },
  {
   "cell_type": "markdown",
   "metadata": {},
   "source": [
    "The agent uses a deep deterministic policy gradient algorithm (DDPG) adjusted to a multi-agent case. In this algorithm, there is an actor and a critic, each with a local approximation and a target approximation. It applies soft-updates, slowly blending the local network weights with the target network weights, and applies noise to its actions to add stochasticity.\n",
    "\n",
    "The hyperperameters are fairly standard, with a gamma of 0.99 and very small learn rates. I adjusted the noise down a little, but I think this measure will be worth experimenting more with the most because it allows the objective function to be more or less exploratory. The neural networks have two fully connected hidden layers, each with 256 nodes. There's also a line of gradient clipping to stabilize the learning.\n",
    "\n",
    "I chose to save the weights of the highest average deque of 100 scores, as opposed to simply saving the weights obtained from the highest scoring episode. The reasoning is that the highest scoring epsiode, in this specific, unstable environment, will often be a peak with steep gradients on either of side of it. Parameters saved from this weight could allow the agent to perform very well under certain conditions or by chance, but any action taken by the agent removed from the conditions in which it scored so highly may cause it to fall off the cliff and fail. \n",
    "\n",
    "Saving the highest average of a deque also isn't perfect, as the save comes at the rightmost edge of that score window, and can drop off by some amount in the following episode that's outside that scoring window. Yet, it still is more reliable than saving on the highest scoring episode.\n",
    "\n",
    "Looking at the performance of the trained agent, it did very well in episode 1 and 2, but in episode 2, 3, and 4 it did poorly, falling under the 0.5 score threshold set. It can be seen where the parameter weights were saved by looking at the plot of scores during the agent's online learning. Remember that the scores were saved on the rightmost edge of the deque. Looking at the right periphery of that likely window of 100 scores, we can see a drop-off in performance. There are also probably dips in performance within that window that can't be visualized with that plot.\n",
    "\n",
    "This same agent, under these same hyperparameters can be trained again, and the results can be wildly different. A lot of it is up to chance, but, with persistence, the learning can be smoothed out to some degree and better can be performance achieved; however, the learning will always have instability with a multi-agent environment in which the agents interact with each other.\n",
    "\n",
    "We can imagine some variations on the reward structure and the environment as a whole. The current reward structure can be seen as a cooperative one, but if an agent were to receive a bonus reward when the opposing agent fails to return a ball that landed in bounds, then the nature of the learning would change, given that the two agents didn't share neural networks. They would try to exploit patterns in the opposing agent until both neural networks converged and played perfectly, in theory. Or, imagine that each agent has a limited observation range so they can't see the ball unless it is close to them. Small variations in the environment will completely change how the agents interact with each other and how they learn."
   ]
  }
 ],
 "metadata": {
  "kernelspec": {
   "display_name": "Python 3",
   "language": "python",
   "name": "python3"
  },
  "language_info": {
   "codemirror_mode": {
    "name": "ipython",
    "version": 3
   },
   "file_extension": ".py",
   "mimetype": "text/x-python",
   "name": "python",
   "nbconvert_exporter": "python",
   "pygments_lexer": "ipython3",
   "version": "3.6.3"
  }
 },
 "nbformat": 4,
 "nbformat_minor": 2
}
